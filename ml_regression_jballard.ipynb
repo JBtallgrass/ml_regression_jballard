{
 "cells": [
  {
   "cell_type": "markdown",
   "id": "33a516f3",
   "metadata": {},
   "source": [
    "# Applied Machine Learning Final Project - Regression Analysis"
   ]
  },
  {
   "cell_type": "markdown",
   "id": "ab166377",
   "metadata": {},
   "source": [
    "## Admin Load Dependencies"
   ]
  },
  {
   "cell_type": "code",
   "execution_count": null,
   "id": "aa020c62",
   "metadata": {},
   "outputs": [],
   "source": [
    "# Standard Library\n",
    "\n",
    "import os\n",
    "\n",
    "# Data Handling\n",
    "import pandas as pd\n",
    "import numpy as np\n",
    "from pandas.plotting import scatter_matrix\n",
    "\n",
    "# Visualization\n",
    "import seaborn as sns\n",
    "import matplotlib.pyplot as plt\n",
    "\n",
    "\n",
    "# Scikit-learn: Model Selection\n",
    "from sklearn.model_selection import StratifiedShuffleSplit\n",
    "\n",
    "# Scikit-learn: Models\n",
    "from sklearn.tree import DecisionTreeClassifier, plot_tree\n",
    "\n",
    "\n",
    "from sklearn.ensemble import RandomForestClassifier\n",
    "\n",
    "\n",
    "# Scikit-learn: Preprocessing & Pipeline\n",
    "from sklearn.preprocessing import LabelEncoder, StandardScaler\n",
    "\n",
    "from sklearn.impute import SimpleImputer\n",
    "from sklearn.pipeline import Pipeline, FeatureUnion\n",
    "\n",
    "\n",
    "# Scikit-learn: Metrics\n",
    "from sklearn.metrics import (\n",
    "    accuracy_score,\n",
    "    precision_score,\n",
    "    recall_score,\n",
    "    f1_score,\n",
    "    classification_report,\n",
    "    confusion_matrix, \n",
    "    ConfusionMatrixDisplay,\n",
    "    )\n"
   ]
  },
  {
   "cell_type": "code",
   "execution_count": null,
   "id": "8bbe2c45",
   "metadata": {},
   "outputs": [],
   "source": [
    "# Create folder if it doesn't exist\n",
    "output_dir = \"plots\"\n",
    "os.makedirs(output_dir, exist_ok=True)"
   ]
  },
  {
   "cell_type": "markdown",
   "id": "78a224a4",
   "metadata": {},
   "source": [
    "## Section 1. Import and Inspect the Data\n"
   ]
  },
  {
   "cell_type": "markdown",
   "id": "624f31e6",
   "metadata": {},
   "source": [
    "### 1.1 Load the dataset and display the first 10 rows.\n"
   ]
  },
  {
   "cell_type": "markdown",
   "id": "6db25ba9",
   "metadata": {},
   "source": [
    "### 1.2 Check for missing values and display summary statistics.\n"
   ]
  },
  {
   "cell_type": "code",
   "execution_count": null,
   "id": "9e39ce4d",
   "metadata": {},
   "outputs": [],
   "source": []
  },
  {
   "cell_type": "markdown",
   "id": "9aa5daef",
   "metadata": {},
   "source": [
    "#### Reflection 1:\n",
    "- _What do you notice about the dataset?_\n",
    "\n",
    "- _Are there any data issues?_ \n"
   ]
  },
  {
   "cell_type": "markdown",
   "id": "e9b30d2d",
   "metadata": {},
   "source": [
    "## Section 2. Data Exploration and Preparation"
   ]
  },
  {
   "cell_type": "markdown",
   "id": "09d66cfa",
   "metadata": {},
   "source": [
    "### 2.1 Explore data patterns and distributions\n",
    "- Create histograms, boxplots, and count plots for categorical variables (as applicable).\n",
    "- Identify patterns, outliers, and anomalies in feature distributions.\n",
    "- Check for class imbalance in the target variable (as applicable)."
   ]
  },
  {
   "cell_type": "code",
   "execution_count": null,
   "id": "b6107c76",
   "metadata": {},
   "outputs": [],
   "source": []
  },
  {
   "cell_type": "markdown",
   "id": "27be7542",
   "metadata": {},
   "source": [
    "### 2.2 Handle missing values and clean data\n",
    "- Impute or drop missing values (as applicable).\n",
    "- Remove or transform outliers (as applicable).\n",
    "- Convert categorical data to numerical format using encoding (as applicable)."
   ]
  },
  {
   "cell_type": "code",
   "execution_count": null,
   "id": "1a47918b",
   "metadata": {},
   "outputs": [],
   "source": []
  },
  {
   "cell_type": "code",
   "execution_count": null,
   "id": "3f3fa737",
   "metadata": {},
   "outputs": [],
   "source": []
  },
  {
   "cell_type": "markdown",
   "id": "e1013986",
   "metadata": {},
   "source": [
    "### 2.3 Feature selection and engineering\n",
    "- Create new features (as applicable).\n",
    "- Transform or combine existing features to improve model performance (as applicable).\n",
    "- Scale or normalize data (as applicable)."
   ]
  },
  {
   "cell_type": "code",
   "execution_count": null,
   "id": "9ada39cb",
   "metadata": {},
   "outputs": [],
   "source": []
  },
  {
   "cell_type": "markdown",
   "id": "cbb0bff9",
   "metadata": {},
   "source": [
    "#### Reflection 2: \n",
    "- What patterns or anomalies do you see? \n",
    "- Do any features stand out? What preprocessing steps were necessary to clean and improve the data? \n",
    "- Did you create or modify any features to improve performance?\n",
    "\n",
    "---"
   ]
  },
  {
   "cell_type": "markdown",
   "id": "ac9ffa35",
   "metadata": {},
   "source": [
    "## Section 3. Feature Selection and Justification"
   ]
  },
  {
   "cell_type": "markdown",
   "id": "64b15c34",
   "metadata": {},
   "source": [
    "### 3.1 Choose features and target\n",
    "  - Select two or more input features (numerical for regression, numerical and/or categorical for classification)\n",
    "  - Select a target variable (as applicable)\n",
    "  - Regression: Continuous target variable (e.g., price, temperature).\n",
    "  - Classification: Categorical target variable (e.g., gender, species).\n",
    "  - Clustering: No target variable.\n",
    "  - Justify your selection with reasoning.\n"
   ]
  },
  {
   "cell_type": "code",
   "execution_count": null,
   "id": "1b8e8214",
   "metadata": {},
   "outputs": [],
   "source": []
  },
  {
   "cell_type": "markdown",
   "id": "9de8f4a7",
   "metadata": {},
   "source": [
    "### 3.2 Define X and y\n",
    "  - Assign input features to X\n",
    "  - Assign target variable to y (as applicable)\n"
   ]
  },
  {
   "cell_type": "code",
   "execution_count": null,
   "id": "c801a606",
   "metadata": {},
   "outputs": [],
   "source": []
  },
  {
   "cell_type": "markdown",
   "id": "ba111909",
   "metadata": {},
   "source": [
    "#### Reflection 3: \n",
    "  - Why did you choose these features? \n",
    "  - How might they impact predictions or accuracy?\n",
    "\n",
    "---"
   ]
  },
  {
   "cell_type": "markdown",
   "id": "fa6c5ec0",
   "metadata": {},
   "source": [
    "## Section 4. Train a Model (Linear Regression)"
   ]
  },
  {
   "cell_type": "markdown",
   "id": "5746eb30",
   "metadata": {},
   "source": [
    "### 4.1 Split the data into training and test sets using train_test_split (or StratifiedShuffleSplit if class imbalance is an issue).\n"
   ]
  },
  {
   "cell_type": "code",
   "execution_count": null,
   "id": "6e00709f",
   "metadata": {},
   "outputs": [],
   "source": []
  },
  {
   "cell_type": "markdown",
   "id": "a5bbaba3",
   "metadata": {},
   "source": [
    "### 4.2 Train model using Scikit-Learn model.fit() method"
   ]
  },
  {
   "cell_type": "code",
   "execution_count": null,
   "id": "4361c709",
   "metadata": {},
   "outputs": [],
   "source": []
  },
  {
   "cell_type": "markdown",
   "id": "81dbe119",
   "metadata": {},
   "source": [
    "### 4.3 Evalulate performance, for example:\n",
    "  - Regression: R^2, MAE, RMSE (RMSE has been recently updated)\n",
    "  - Classification: Accuracy, Precision, Recall, F1-score, Confusion Matrix\n",
    "  - Clustering: Inertia, Silhouette Score\n"
   ]
  },
  {
   "cell_type": "code",
   "execution_count": null,
   "id": "95cde62d",
   "metadata": {},
   "outputs": [],
   "source": []
  },
  {
   "cell_type": "markdown",
   "id": "6568fff7",
   "metadata": {},
   "source": [
    "#### Reflection 4: \n",
    "  -  How well did the model perform? \n",
    "  -  Any surprises in the results?\n",
    "\n",
    "---"
   ]
  },
  {
   "cell_type": "markdown",
   "id": "a33150a1",
   "metadata": {},
   "source": [
    "## Section 5. Improve the Model or Try Alternates (Implement Pipelines)\n"
   ]
  },
  {
   "cell_type": "markdown",
   "id": "fbd9b3da",
   "metadata": {},
   "source": [
    "### 5.1 Implement Pipeline 1: Imputer → StandardScaler → Linear Regression.\n"
   ]
  },
  {
   "cell_type": "code",
   "execution_count": null,
   "id": "c660dac7",
   "metadata": {},
   "outputs": [],
   "source": []
  },
  {
   "cell_type": "markdown",
   "id": "f3221209",
   "metadata": {},
   "source": [
    "### 5.2 Implement Pipeline 2: Imputer → Polynomial Features (degree=3) → StandardScaler → Linear Regression.\n"
   ]
  },
  {
   "cell_type": "code",
   "execution_count": null,
   "id": "12e31dbb",
   "metadata": {},
   "outputs": [],
   "source": []
  },
  {
   "cell_type": "markdown",
   "id": "d838e5e5",
   "metadata": {},
   "source": [
    "### 5.3 Compare performance of all models across the same performance metrics\n"
   ]
  },
  {
   "cell_type": "code",
   "execution_count": null,
   "id": "017106d2",
   "metadata": {},
   "outputs": [],
   "source": []
  },
  {
   "cell_type": "markdown",
   "id": "f6c47b21",
   "metadata": {},
   "source": [
    "#### Reflection 5: \n",
    "- Which models performed better?\n",
    "- How does scaling impact results?\n",
    "\n",
    "---"
   ]
  },
  {
   "cell_type": "markdown",
   "id": "c66bcd43",
   "metadata": {},
   "source": [
    "## Section 6. Final Thoughts & Insights\n"
   ]
  },
  {
   "cell_type": "markdown",
   "id": "03ae8994",
   "metadata": {},
   "source": [
    "### 6.1 Summarize findings.\n"
   ]
  },
  {
   "cell_type": "markdown",
   "id": "bdf6735c",
   "metadata": {},
   "source": []
  },
  {
   "cell_type": "markdown",
   "id": "059dd3ed",
   "metadata": {},
   "source": [
    "### 6.2 Discuss challenges faced.\n"
   ]
  },
  {
   "cell_type": "markdown",
   "id": "aff9f75c",
   "metadata": {},
   "source": []
  },
  {
   "cell_type": "markdown",
   "id": "aff54bd3",
   "metadata": {},
   "source": [
    "### 6.3 If you had more time, what would you try next?\n"
   ]
  },
  {
   "cell_type": "markdown",
   "id": "7e0be8d2",
   "metadata": {},
   "source": []
  },
  {
   "cell_type": "markdown",
   "id": "5a9057ec",
   "metadata": {},
   "source": [
    "#### Reflection 6:\n",
    "- What did you learn from this project?\n",
    "\n",
    "---"
   ]
  }
 ],
 "metadata": {
  "kernelspec": {
   "display_name": ".venv",
   "language": "python",
   "name": "python3"
  },
  "language_info": {
   "codemirror_mode": {
    "name": "ipython",
    "version": 3
   },
   "file_extension": ".py",
   "mimetype": "text/x-python",
   "name": "python",
   "nbconvert_exporter": "python",
   "pygments_lexer": "ipython3",
   "version": "3.13.2"
  }
 },
 "nbformat": 4,
 "nbformat_minor": 5
}
